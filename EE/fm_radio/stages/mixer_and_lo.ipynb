{
 "cells": [
  {
   "cell_type": "markdown",
   "metadata": {},
   "source": [
    "- The LT5560EDD#PBF seems like it would be a good option, it doesn't seem to have a minimum input frequency and the maximum input freq. is 4 GHz, which is far more than what we need.\n",
    "- For simplicity, let's make everything single ended to avoid the need for a balun.\n",
    "- I assume the LO has to be impedance matched. \n",
    "- It seems like AFC is no longer used since crystals provide a very stable frequency, as seen on both wikipedia and this link: https://www.quora.com/What-is-frequency-drift-in-an-FM-receiver. Most LOs today use digitally synthesized signals connected to crystals. These are known as \"frequency synthesizers\" - they are able to generate many different stable frequencies using a single reference frequency from a crystal.\n",
    "- This seems like a really good option: https://www.digikey.com/en/products/detail/skyworks-solutions-inc/SI5351A-B-GTR/4069612. Unlike the previous one, it uses a crystal, so the frequency error is close to 0.\n",
    "- How to change both the input filter and the LO freq. at the same time?\n",
    "    - Use this thing called a Dual Gang Capacitor, essentially changes two caps at the same time with one knob.\n",
    "- In a high-side mixer, the FM modulated signal will essentially be inverted. This is because fIF = |fRF - fLO|, so if fRF increases then fRF becomes closer to fLO, so fIF decreases. This doesn't really matter (not completely sure about this), as long as we're aware that it's mirrored. https://www.edaboard.com/threads/high-side-injection-and-low-side-injection-in-mixer.125131/\n",
    "- Does a clock generator work (square wave) or do I need a sine wave for the LO?\n",
    "    - There seems to be a variety of different opinions online. https://www.reddit.com/r/rfelectronics/comments/12wqxvw/rf_mixer_square_wave_lo/\n",
    "    - It seems like a square wave is practically hard to produce, but could be beneficial. Some people are also saying that the higher order harmonics could be aliased down to the IF, others are saying that a square wave is the ideal mixer input. For now, I'm going to go with a square wave.\n",
    "- The mixer mentioned above says either low-side or high-side mixing can be used. Let's use low-side mixing so that the signal is not inverted. This means that fLO = fRF - fIF = fRF - 10.7MHz.\n"
   ]
  },
  {
   "cell_type": "markdown",
   "metadata": {},
   "source": []
  }
 ],
 "metadata": {
  "language_info": {
   "name": "python"
  }
 },
 "nbformat": 4,
 "nbformat_minor": 2
}
