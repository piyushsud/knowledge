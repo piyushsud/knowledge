{
 "cells": [
  {
   "cell_type": "markdown",
   "metadata": {},
   "source": [
    "- A choke (or choke coil) is an inductor designed to block high frequency signals\n",
    "- Diodes are used as rectifiers, they allow AC signals to pass, but only if they're positive.\n",
    "- A former is the non-conductive cylinder that the wire is wrapped around in an inductor\n",
    "- Input stage:\n",
    "    ○ Filters before the mixer have a relatively large BW. Most filtering is done at the IF, so the Q value requirement is lower.\n",
    "        § https://electronics.stackexchange.com/questions/153830/should-i-use-a-passive-or-an-active-filter \n",
    "- Q factor of 25 needed so that 3 dB bandwidth = 400 KHz at a center frequency of 10 MHz.\n",
    "- Choose the LO so that the carrier frequency of interest is mixed to the desired IF. For example, if we want to tune to 99.7 MHz and we want an IF of 10.7 MHz, then we should set the LO to 90 MHz.\n",
    "- Need a loosely coupled transformer, so can't buy anything off the shelf since it'll be pretty tightly coupled.\n",
    "- Inductance: N = 6 turns, l = 5 mm, A = 30 mm^2, relative permeability is 1500\n",
    "Based on this, inductance used in this video The Foster Seeley Discriminator is"
   ]
  },
  {
   "cell_type": "markdown",
   "metadata": {},
   "source": []
  }
 ],
 "metadata": {
  "kernelspec": {
   "display_name": "Python 3",
   "language": "python",
   "name": "python3"
  },
  "language_info": {
   "codemirror_mode": {
    "name": "ipython",
    "version": 3
   },
   "file_extension": ".py",
   "mimetype": "text/x-python",
   "name": "python",
   "nbconvert_exporter": "python",
   "pygments_lexer": "ipython3",
   "version": "3.9.6"
  }
 },
 "nbformat": 4,
 "nbformat_minor": 2
}
