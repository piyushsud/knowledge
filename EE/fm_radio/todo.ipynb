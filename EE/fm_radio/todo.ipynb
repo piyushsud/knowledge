{
 "cells": [
  {
   "cell_type": "markdown",
   "metadata": {},
   "source": [
    "- Todo:\n",
    "    ○ Find variable capacitor on digikey and c\n",
    "- Questions:\n",
    "    ○ How do I attach the transformer to the PCB?\n",
    "        § Using hot glue!!\n",
    "    ○ Surely the wire around the iron core isn't 50 ohms. So how is the transformer impedance matched?\n",
    "    ○ If the impedance at the input of the transformer is always 50 ohms, that wouldn't make sense because then the impedance of the system wouldn't change regardless of the phase.\n",
    "    ○ If K is small, then why is mutual inductance even needed? Can't we just make it 0?\n",
    "    ○ Advantages of germanium diode vs silicon in Foster Seeley Discriminator (advantage of smaller voltage drop)?\n"
   ]
  }
 ],
 "metadata": {
  "language_info": {
   "name": "python"
  }
 },
 "nbformat": 4,
 "nbformat_minor": 2
}
