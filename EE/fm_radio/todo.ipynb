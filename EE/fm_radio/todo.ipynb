{
 "cells": [
  {
   "cell_type": "markdown",
   "metadata": {},
   "source": [
    "- Todo:\n",
    "    ○ Debug foster-seeley discriminator schematic in LTSPICE!!\n",
    "\n",
    "- Questions:\n",
    "    ○ How do I attach the transformer to the PCB?\n",
    "        § Using hot glue!!\n",
    "    ○ Surely the wire around the iron core isn't 50 ohms. So how is the transformer impedance matched?\n",
    "    ○ If the impedance at the input of the transformer is always 50 ohms, that wouldn't make sense because then the impedance of the system wouldn't change regardless of the phase.\n"
   ]
  }
 ],
 "metadata": {
  "language_info": {
   "name": "python"
  }
 },
 "nbformat": 4,
 "nbformat_minor": 2
}
