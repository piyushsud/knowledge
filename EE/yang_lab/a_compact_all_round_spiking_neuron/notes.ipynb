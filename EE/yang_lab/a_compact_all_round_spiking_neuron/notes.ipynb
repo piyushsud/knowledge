{
 "cells": [
  {
   "cell_type": "markdown",
   "metadata": {},
   "source": [
    "Abstract\n",
    "- Emulated neuron demonstrates 6 characteristics of biological neurons\n",
    "- Spiking neural network with memristor based neurons => better energy and area efficiency"
   ]
  },
  {
   "cell_type": "markdown",
   "metadata": {},
   "source": []
  },
  {
   "cell_type": "markdown",
   "metadata": {},
   "source": [
    "Introduction\n",
    "- The brain is more efficient because it uses:\n",
    "    - analog processing\n",
    "    - asynchronous operation\n",
    "    - spike based information\n",
    "    - in-memory computing\n",
    "    - rich neuron functionalities\n",
    "- Previously, neurons have been oversimplified or have used lots of peripheral circuits\n",
    "- Digital circuits require analog to digital converters which are very inefficient\n",
    "- Some researchers are working on analog & asynchronous circuits using analog CMOS\n",
    "    - This doesn't really work though because transistors and biological neurons have very different dynamics\n",
    "- Memristors are being developed with increasingly rich dynamics\n",
    "    - Short term memory\n",
    "    - Negative differential resistance used to model neuron oscillations\n",
    "    - \n"
   ]
  },
  {
   "cell_type": "markdown",
   "metadata": {},
   "source": []
  }
 ],
 "metadata": {
  "language_info": {
   "name": "python"
  }
 },
 "nbformat": 4,
 "nbformat_minor": 2
}
