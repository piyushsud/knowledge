{
 "cells": [
  {
   "cell_type": "code",
   "execution_count": null,
   "metadata": {},
   "outputs": [],
   "source": []
  },
  {
   "cell_type": "markdown",
   "metadata": {},
   "source": [
    "- The dielectric layer is the material between the plates of the memristor, which is typically HfO2.\n",
    "- While drift is the movement of particles due to an applied E-field, diffusion is the movement of particles from higher concentrations to lower concentrations."
   ]
  }
 ],
 "metadata": {
  "language_info": {
   "name": "python"
  }
 },
 "nbformat": 4,
 "nbformat_minor": 2
}
