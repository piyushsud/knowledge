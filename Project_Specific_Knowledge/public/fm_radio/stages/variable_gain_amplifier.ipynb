{
 "cells": [
  {
   "cell_type": "markdown",
   "metadata": {},
   "source": [
    "what range of amplitudes are we looking for?\n",
    "- Based on this: https://forum.allaboutcircuits.com/threads/voltage-on-an-antenna.88982/\n",
    "    - It seems like FM receiver gain is on the order of 100 - 120 dB and the input is typically in the high uV to low mV range.\n",
    "- According to https://electronics.stackexchange.com/questions/28404/what-is-the-voltage-range-of-a-standard-headphone-jack-from-a-phone, it seems like a sufficient power for headphones is around 5 mW. Have confirmed this from other googling as well. Given that my headphones have an impedance of 38 ohms, 0.005 = V^2/38 => V = 0.436V. \n",
    "- According to this link, the coupling coefficient of a foster seeley discriminator can be as low as 0.1, and a good value considering the tradeoff between sensitivity vs. linearity is k = 0.3. \n",
    "- https://www.academia.edu/50833927/What_simulation_of_the_Foster_Seeley_discriminator_can_reveal?sm=b. This link also provides a lot of simulation data!\n",
    "- Assuming the antenna provides a signal of amplitude of 1 mV, a coupling coefficient of 0.3, assuming minimal loss in the right half of the discriminator, and a voltage of 0.436V, we need a voltage gain of ~1.45k = 63.2273600447 dB. \n",
    "- Let's set the gain of \n",
    "- The MAR-8ASM+ has a gain of 31.5 dB at 0.1 GHz, and I'm assuming it's similar for the IF. This gives us 31.5*2 = 63 dB, which is almost exactly what we need. \n",
    "- We need another amplifier with adjustable gain to set the gain to the appropriate value for headphones.\n",
    "- This seems like a good variable gain am\n",
    "plifier: https://www.digikey.com/en/products/detail/texas-instruments/VCA824IDGST/1766828?s=N4IgTCBcDaIGoGECCAOMAWAkgEQOIGUAVEAXQF8g\n",
    "    - Bandwidth if 320 MHz, which is much higher than what we need\n",
    "    - Gain can be adjusted from 2 to 40 V/V.\n",
    "- We should just use that for the IF amplifier as well, since the gain can also be too high, as in some cases, it can go up the 10s or 100s of mV range: https://www.quora.com/How-many-mV-should-I-expect-from-an-AM-FM-radio-antenna\n"
   ]
  },
  {
   "cell_type": "markdown",
   "metadata": {},
   "source": [
    "- V/V just means voltage gain.\n",
    "- RF/RG = 40V/V as the maximum. Note that the gain isn't perfectly linear, so RF/RG doesn't exactly give you the gain. However, since we can adjust the gain with a potentiometer, this doesn't really matter.\n",
    "- If we choose a gain of 20 dB = 10V/V for the IF, then to achieve a nominal gain of 63.23 dB mentioned above, we'd need 11.73 dB of amplification in the last stage = 3.86V/V. \n",
    "- For some reason (probably because it creates a pole, reducing the BW), they used small resistor values for Rf and Rg in their example circuits, so let's do the same. For the gain of 10V/V for the IF, let's choose Rf = 500 and Rg = 50. For the gain of 3.86V/V, we need a nominal Rf = 500 and Rg = 129. Let's say that we want the gain to be able to up to 40 V/V, then we need Rg to go down to 12.5. If we want the gain to down to 2V/V, then we need Rg = 250. Therefore the pot range we are looking for is [12.5, 250]. The bottom value in the range should be easy to achieve since most pots can typically go down to 1 to 2 % of their max value. \n",
    "- To determine the input impedance, we can see that the FB pin is a virtual ground since it is shown as an op-amp in the functional diagram in the datasheet. That means that for the 4-quadrant multiplier, the input impedance is dependent on R1. If we want to make Rg = R1 so that the gain is only dependent on Rg, then we'd have to two potentiometers which would be annoying. This would also mean that our input impedance would constantly change, which would be an issue for impedance matching. Instead, we can just make R1 a constant value, or just not include it at all?? Why is it even necessary, I mean it's not used on Figure 75 of the datasheet.\n",
    "- It seems like R1 is only used if we need the output voltage to be both a function of Vg and Vin. However, in this case, we only really need it to be a function of Vin since we can set Rf/Rg using a potentiometer, and the output voltage is also proportional to Rf/Rg.\n"
   ]
  },
  {
   "cell_type": "markdown",
   "metadata": {},
   "source": []
  }
 ],
 "metadata": {
  "language_info": {
   "name": "python"
  }
 },
 "nbformat": 4,
 "nbformat_minor": 2
}
