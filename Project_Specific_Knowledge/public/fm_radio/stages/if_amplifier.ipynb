{
 "cells": [
  {
   "cell_type": "markdown",
   "metadata": {},
   "source": [
    "- Same as HF amp, except DC blocking cap will present 10x the impedance at 10.7 MHz compared to 107 MHz, which is probably fine, since the impedance is still quite low. \n",
    "- The inductor will need to be changed to have a self-resonant frequency of 10.7 MHz instead of 100 MHz, since we are dealing with IF frequencies instead of HF.\n",
    "- This seems like a good option: https://www.digikey.com/en/products/detail/vishay-dale/IHLP5050FDER100M51/4070243\n",
    "\n",
    "\n",
    "- TODO: replace IF amp w variable gain amp (see variable_gain_amplifier.ipynb) since our gain might be too high."
   ]
  }
 ],
 "metadata": {
  "language_info": {
   "name": "python"
  }
 },
 "nbformat": 4,
 "nbformat_minor": 2
}
